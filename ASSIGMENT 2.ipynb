{
 "cells": [
  {
   "cell_type": "raw",
   "id": "bad00062-e73b-427c-b89e-0f515f53745b",
   "metadata": {},
   "source": [
    "Q1. Create a python program to sort the given list of tuples based on integer value using a lambda function .\n",
    "\n",
    "[('Sachin Tendulkar', 34357), ('Ricky Ponting', 27483), ('Jack Kallis', 25534), ('Virat Kohli', 24936)]"
   ]
  },
  {
   "cell_type": "code",
   "execution_count": 5,
   "id": "9aa544c7-5376-4059-9724-6452de7f68dd",
   "metadata": {},
   "outputs": [],
   "source": [
    "data = [('Sachin Tendulkar', 34357), ('Ricky Ponting', 27483), ('Jack Kallis', 25534), ('Virat Kohli', 24936)]"
   ]
  },
  {
   "cell_type": "code",
   "execution_count": 6,
   "id": "963315ea-a60b-4033-b49f-8f19779ea796",
   "metadata": {},
   "outputs": [],
   "source": [
    "data.sort(key=lambda x : x[0])"
   ]
  },
  {
   "cell_type": "code",
   "execution_count": 7,
   "id": "79e58ba6-9aed-4c0e-a014-a04e84eb5447",
   "metadata": {},
   "outputs": [
    {
     "name": "stdout",
     "output_type": "stream",
     "text": [
      "[('Jack Kallis', 25534), ('Ricky Ponting', 27483), ('Sachin Tendulkar', 34357), ('Virat Kohli', 24936)]\n"
     ]
    }
   ],
   "source": [
    "print(data)"
   ]
  },
  {
   "cell_type": "raw",
   "id": "7eaa6ae9-288a-461b-9de8-a03341c9431c",
   "metadata": {},
   "source": [
    "Q2. Write a Python Program to find the squares of all the numbers in the given list of integers using lambda and map function. \n",
    "[1, 2, 3, 4, 5, 6, 7, 8, 9, 10]"
   ]
  },
  {
   "cell_type": "code",
   "execution_count": 3,
   "id": "32b009fa-2bc4-4711-adb9-cafb8f15339e",
   "metadata": {},
   "outputs": [],
   "source": [
    "s = [ 1,2,3,4,5,6,7,8,9,10]"
   ]
  },
  {
   "cell_type": "code",
   "execution_count": 4,
   "id": "d575de0d-da55-41bc-935c-11ece2958b9f",
   "metadata": {},
   "outputs": [
    {
     "data": {
      "text/plain": [
       "[1, 4, 9, 16, 25, 36, 49, 64, 81, 100]"
      ]
     },
     "execution_count": 4,
     "metadata": {},
     "output_type": "execute_result"
    }
   ],
   "source": [
    "list(map(lambda x : x**2 , s))"
   ]
  },
  {
   "cell_type": "raw",
   "id": "f20f168f-a258-46e7-9879-c34c27d2d833",
   "metadata": {},
   "source": [
    "Q3. Write a python program to convert the given list of integers into a tuple of strings. Use map and lambda function .\n",
    "\n",
    "Given String: [1, 2, 3, 4, 5, 6, 7, 8, 9, 10]\n",
    "\n",
    "Expected output: ('1', '2', '3', '4', '5', '6', '7', '8', '9', '10')"
   ]
  },
  {
   "cell_type": "code",
   "execution_count": 10,
   "id": "dc73a041-5d5a-4514-8a65-4b3e2e3c1699",
   "metadata": {},
   "outputs": [],
   "source": [
    "l = [1,2,3,4,5,6,7,8,9,10]"
   ]
  },
  {
   "cell_type": "code",
   "execution_count": 19,
   "id": "2cf64063-f22f-4765-9d1d-8d0e6d6c3c42",
   "metadata": {},
   "outputs": [],
   "source": [
    "l = list(map(lambda x : str(x) ,[1,2,3,4,5,6,7,8,9,10]))"
   ]
  },
  {
   "cell_type": "code",
   "execution_count": 23,
   "id": "e7ae18af-617c-43f1-828e-664302656a64",
   "metadata": {},
   "outputs": [],
   "source": [
    "output_str = [1,2,3,4,5,6,7,8,9,10]"
   ]
  },
  {
   "cell_type": "code",
   "execution_count": 24,
   "id": "25772bf8-ed5c-4800-8f8c-1e077fe682e1",
   "metadata": {},
   "outputs": [
    {
     "name": "stdout",
     "output_type": "stream",
     "text": [
      "[1, 2, 3, 4, 5, 6, 7, 8, 9, 10]\n"
     ]
    }
   ],
   "source": [
    "print(output_str)"
   ]
  },
  {
   "cell_type": "raw",
   "id": "2ec8bbe2-daf7-4259-aeb6-628fb50b1ee1",
   "metadata": {},
   "source": [
    "Q4.  Write a python program using reduce function to compute the product of a list containing numbers from 1 to 25 ."
   ]
  },
  {
   "cell_type": "code",
   "execution_count": 25,
   "id": "dc3160f8-cccb-4124-9511-f198ff562111",
   "metadata": {},
   "outputs": [],
   "source": [
    "s = [1,2,3,4,5,6,7,8,9,10,11,12,13,14,15,16,17,18,19,20,21,22,23,24,25]"
   ]
  },
  {
   "cell_type": "code",
   "execution_count": 28,
   "id": "c10a7fca-0bab-462f-b653-c8329a4792f0",
   "metadata": {},
   "outputs": [],
   "source": [
    "from functools import reduce"
   ]
  },
  {
   "cell_type": "code",
   "execution_count": 30,
   "id": "ad273405-6378-4db0-9340-24ea6d3688b5",
   "metadata": {},
   "outputs": [
    {
     "data": {
      "text/plain": [
       "15511210043330985984000000"
      ]
     },
     "execution_count": 30,
     "metadata": {},
     "output_type": "execute_result"
    }
   ],
   "source": [
    "reduce(lambda x,y : x*y , s)"
   ]
  },
  {
   "cell_type": "raw",
   "id": "77b2a870-7038-4dbd-93ca-6289444902d5",
   "metadata": {},
   "source": [
    "Q5. Write a python program to filter the numbers in a given list that are divisible by 2 and 3 using the filter function .\n",
    "[2, 3, 6, 9, 27, 60, 90, 120, 55, 46]"
   ]
  },
  {
   "cell_type": "code",
   "execution_count": 31,
   "id": "75811754-a902-436e-8ec3-31b7b33ed4fd",
   "metadata": {},
   "outputs": [],
   "source": [
    "ss = [2,3,6,9,27,60,90,120,55,46]"
   ]
  },
  {
   "cell_type": "code",
   "execution_count": 55,
   "id": "e0835fec-2502-4d1d-bcd6-e7f9f1e4e144",
   "metadata": {},
   "outputs": [
    {
     "ename": "NameError",
     "evalue": "name 'y' is not defined",
     "output_type": "error",
     "traceback": [
      "\u001b[0;31m---------------------------------------------------------------------------\u001b[0m",
      "\u001b[0;31mNameError\u001b[0m                                 Traceback (most recent call last)",
      "Cell \u001b[0;32mIn[55], line 1\u001b[0m\n\u001b[0;32m----> 1\u001b[0m \u001b[38;5;28mlist\u001b[39m(\u001b[38;5;28mfilter\u001b[39m(\u001b[38;5;28;01mlambda\u001b[39;00m x , y : x\u001b[38;5;241m%\u001b[39m\u001b[38;5;241m2\u001b[39m \u001b[38;5;241m==\u001b[39m\u001b[38;5;241m0\u001b[39m , \u001b[43my\u001b[49m\u001b[38;5;241m%\u001b[39m\u001b[38;5;241m3\u001b[39m \u001b[38;5;241m==\u001b[39m\u001b[38;5;241m0\u001b[39m  ,ss))\n",
      "\u001b[0;31mNameError\u001b[0m: name 'y' is not defined"
     ]
    }
   ],
   "source": [
    "list(filter(lambda x , y : x%2 ==0 , y%3 ==0  ,ss))"
   ]
  },
  {
   "cell_type": "raw",
   "id": "f8fb6da9-6a73-4c51-9233-1a882d06bd6c",
   "metadata": {},
   "source": [
    "SIR FROM ABOVE THE Q I TRY TO PERFROM THIS TASK BUT I CAN'T UNDERSTAND\n",
    "WHY Y IS NOT DEFINED FOR 2 ARGUMENT . SO BELOW I PERFROM WITH DIVISIBLE BY 2,3 BY \n",
    "TWO DIFFERENT TYPES."
   ]
  },
  {
   "cell_type": "code",
   "execution_count": 56,
   "id": "57e17b1e-6a04-4006-ad75-7a16d6867b91",
   "metadata": {},
   "outputs": [],
   "source": [
    "ss = [2,3,6,9,27,60,90,120,55,46]"
   ]
  },
  {
   "cell_type": "code",
   "execution_count": 57,
   "id": "fa76d28b-3952-460e-925f-6445015faef5",
   "metadata": {},
   "outputs": [
    {
     "data": {
      "text/plain": [
       "[2, 6, 60, 90, 120, 46]"
      ]
     },
     "execution_count": 57,
     "metadata": {},
     "output_type": "execute_result"
    }
   ],
   "source": [
    "list(filter(lambda x : x%2 == 0,ss))"
   ]
  },
  {
   "cell_type": "code",
   "execution_count": 58,
   "id": "6899e979-757e-4a36-b83e-7905d9793b8c",
   "metadata": {},
   "outputs": [
    {
     "data": {
      "text/plain": [
       "[3, 6, 9, 27, 60, 90, 120]"
      ]
     },
     "execution_count": 58,
     "metadata": {},
     "output_type": "execute_result"
    }
   ],
   "source": [
    "list(filter(lambda x : x%3 == 0 ,ss))"
   ]
  },
  {
   "cell_type": "raw",
   "id": "3c7a94bc-d235-4249-ae14-f68f37619a91",
   "metadata": {},
   "source": [
    "Q6. Write a python program to find palindromes in the given list of strings using lambda and filter function .\n",
    "\n",
    "['python', 'php', 'aba', 'radar', 'level']"
   ]
  },
  {
   "cell_type": "raw",
   "id": "b9748e1c-9c7a-4454-9fb5-5339551a576c",
   "metadata": {},
   "source": [
    "SIR I CAN'T UNDERSTAND THE CONCEPT OF PALINDROMES FROM THE ABOVE \n",
    "QUESTION,SO WITHOUT CHEATING I SKIP THIS QUESTION.\n",
    "\n",
    "ONE THING I WANT TO SAY THANKS SOO MUCH TO PW SKIILS TEAM \n",
    "AND SPEACIALLY THANKS TO SHUDHANSHU SIR -_- "
   ]
  },
  {
   "cell_type": "code",
   "execution_count": null,
   "id": "1c5773e7-7256-4b0a-b3b7-a6c00186afeb",
   "metadata": {},
   "outputs": [],
   "source": []
  },
  {
   "cell_type": "code",
   "execution_count": null,
   "id": "724bce15-371d-4846-b092-45b94e3f92f2",
   "metadata": {},
   "outputs": [],
   "source": []
  },
  {
   "cell_type": "code",
   "execution_count": null,
   "id": "a51a6bb4-b7fd-4810-a631-4e4b67fbb227",
   "metadata": {},
   "outputs": [],
   "source": []
  },
  {
   "cell_type": "code",
   "execution_count": null,
   "id": "b7a93b45-4084-4025-9471-1014990a3b14",
   "metadata": {},
   "outputs": [],
   "source": []
  },
  {
   "cell_type": "code",
   "execution_count": null,
   "id": "01a228b7-f7f1-4d94-9694-978dccdcba49",
   "metadata": {},
   "outputs": [],
   "source": []
  },
  {
   "cell_type": "code",
   "execution_count": null,
   "id": "7723c8e8-10d5-4aae-9252-78bf8ddf2f48",
   "metadata": {},
   "outputs": [],
   "source": []
  },
  {
   "cell_type": "code",
   "execution_count": null,
   "id": "99011534-e585-4b48-a8a4-e36854a7b8ea",
   "metadata": {},
   "outputs": [],
   "source": []
  },
  {
   "cell_type": "code",
   "execution_count": null,
   "id": "df735a76-87c0-4f92-a041-f3b41637bf05",
   "metadata": {},
   "outputs": [],
   "source": []
  },
  {
   "cell_type": "code",
   "execution_count": null,
   "id": "aa772a27-ef4a-404a-bb9e-782167c52c3d",
   "metadata": {},
   "outputs": [],
   "source": []
  }
 ],
 "metadata": {
  "kernelspec": {
   "display_name": "Python 3 (ipykernel)",
   "language": "python",
   "name": "python3"
  },
  "language_info": {
   "codemirror_mode": {
    "name": "ipython",
    "version": 3
   },
   "file_extension": ".py",
   "mimetype": "text/x-python",
   "name": "python",
   "nbconvert_exporter": "python",
   "pygments_lexer": "ipython3",
   "version": "3.10.8"
  }
 },
 "nbformat": 4,
 "nbformat_minor": 5
}
